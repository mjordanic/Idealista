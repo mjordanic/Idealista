{
 "cells": [
  {
   "cell_type": "markdown",
   "metadata": {},
   "source": [
    "# Analysis of the Barcelona property market\n",
    "\n",
    "The script visualizes the property market in Barcelona and identifies the good investment. The data is stored in './data/data.csv' and was obtained using the script 'Idealista API'.\n",
    "\n",
    "*Author: Mislav Jordanić*"
   ]
  },
  {
   "cell_type": "code",
   "execution_count": 1,
   "metadata": {},
   "outputs": [
    {
     "data": {
      "text/html": [
       "<style>.container { width:95% !important; }</style>"
      ],
      "text/plain": [
       "<IPython.core.display.HTML object>"
      ]
     },
     "metadata": {},
     "output_type": "display_data"
    }
   ],
   "source": [
    "import pandas as pd\n",
    "import seaborn as sns\n",
    "import matplotlib.pyplot as plt\n",
    "import numpy as np\n",
    "\n",
    "from sklearn.model_selection import KFold\n",
    "from sklearn.model_selection import cross_val_score\n",
    "from sklearn import neighbors\n",
    "\n",
    "import warnings\n",
    "warnings.filterwarnings('ignore')\n",
    "\n",
    "pd.set_option('display.max_rows', None)\n",
    "\n",
    "from IPython.core.display import display, HTML\n",
    "display(HTML(\"<style>.container { width:95% !important; }</style>\"))\n",
    "\n",
    "sns.set_style(\"whitegrid\")\n",
    "pd.set_option('display.max_columns', None)\n",
    "\n",
    "df_original = pd.read_csv('./data/data.csv')\n",
    "df=df_original.copy()"
   ]
  },
  {
   "cell_type": "markdown",
   "metadata": {},
   "source": [
    "## Organize data"
   ]
  },
  {
   "cell_type": "code",
   "execution_count": 2,
   "metadata": {},
   "outputs": [
    {
     "data": {
      "text/html": [
       "<div>\n",
       "<style scoped>\n",
       "    .dataframe tbody tr th:only-of-type {\n",
       "        vertical-align: middle;\n",
       "    }\n",
       "\n",
       "    .dataframe tbody tr th {\n",
       "        vertical-align: top;\n",
       "    }\n",
       "\n",
       "    .dataframe thead th {\n",
       "        text-align: right;\n",
       "    }\n",
       "</style>\n",
       "<table border=\"1\" class=\"dataframe\">\n",
       "  <thead>\n",
       "    <tr style=\"text-align: right;\">\n",
       "      <th></th>\n",
       "      <th>propertyCode</th>\n",
       "      <th>floor</th>\n",
       "      <th>price</th>\n",
       "      <th>propertyType</th>\n",
       "      <th>size</th>\n",
       "      <th>exterior</th>\n",
       "      <th>rooms</th>\n",
       "      <th>bathrooms</th>\n",
       "      <th>district</th>\n",
       "      <th>neighborhood</th>\n",
       "      <th>latitude</th>\n",
       "      <th>longitude</th>\n",
       "      <th>priceByArea</th>\n",
       "      <th>status</th>\n",
       "      <th>hasLift</th>\n",
       "      <th>Week</th>\n",
       "    </tr>\n",
       "  </thead>\n",
       "  <tbody>\n",
       "    <tr>\n",
       "      <th>0</th>\n",
       "      <td>87688139</td>\n",
       "      <td>3</td>\n",
       "      <td>172000.0</td>\n",
       "      <td>flat</td>\n",
       "      <td>67.0</td>\n",
       "      <td>False</td>\n",
       "      <td>2</td>\n",
       "      <td>2</td>\n",
       "      <td>Eixample</td>\n",
       "      <td>L'Antiga Esquerra de l'Eixample</td>\n",
       "      <td>41.387739</td>\n",
       "      <td>2.151873</td>\n",
       "      <td>2567.0</td>\n",
       "      <td>NaN</td>\n",
       "      <td>NaN</td>\n",
       "      <td>14</td>\n",
       "    </tr>\n",
       "    <tr>\n",
       "      <th>1</th>\n",
       "      <td>89127122</td>\n",
       "      <td>2</td>\n",
       "      <td>130000.0</td>\n",
       "      <td>flat</td>\n",
       "      <td>32.0</td>\n",
       "      <td>True</td>\n",
       "      <td>1</td>\n",
       "      <td>1</td>\n",
       "      <td>Ciutat Vella</td>\n",
       "      <td>El Raval</td>\n",
       "      <td>41.380189</td>\n",
       "      <td>2.165333</td>\n",
       "      <td>4063.0</td>\n",
       "      <td>good</td>\n",
       "      <td>False</td>\n",
       "      <td>14</td>\n",
       "    </tr>\n",
       "    <tr>\n",
       "      <th>2</th>\n",
       "      <td>89115559</td>\n",
       "      <td>1</td>\n",
       "      <td>149000.0</td>\n",
       "      <td>flat</td>\n",
       "      <td>45.0</td>\n",
       "      <td>False</td>\n",
       "      <td>2</td>\n",
       "      <td>1</td>\n",
       "      <td>Nou Barris</td>\n",
       "      <td>Porta</td>\n",
       "      <td>41.430582</td>\n",
       "      <td>2.177449</td>\n",
       "      <td>3311.0</td>\n",
       "      <td>good</td>\n",
       "      <td>True</td>\n",
       "      <td>14</td>\n",
       "    </tr>\n",
       "    <tr>\n",
       "      <th>3</th>\n",
       "      <td>89102591</td>\n",
       "      <td>5</td>\n",
       "      <td>220000.0</td>\n",
       "      <td>flat</td>\n",
       "      <td>54.0</td>\n",
       "      <td>True</td>\n",
       "      <td>2</td>\n",
       "      <td>1</td>\n",
       "      <td>Eixample</td>\n",
       "      <td>La Sagrada Família</td>\n",
       "      <td>41.410451</td>\n",
       "      <td>2.178700</td>\n",
       "      <td>4074.0</td>\n",
       "      <td>good</td>\n",
       "      <td>True</td>\n",
       "      <td>14</td>\n",
       "    </tr>\n",
       "    <tr>\n",
       "      <th>4</th>\n",
       "      <td>89123676</td>\n",
       "      <td>bj</td>\n",
       "      <td>103000.0</td>\n",
       "      <td>flat</td>\n",
       "      <td>67.0</td>\n",
       "      <td>False</td>\n",
       "      <td>2</td>\n",
       "      <td>1</td>\n",
       "      <td>Nou Barris</td>\n",
       "      <td>Can Peguera - El Turó de la Peira</td>\n",
       "      <td>41.432788</td>\n",
       "      <td>2.169198</td>\n",
       "      <td>1537.0</td>\n",
       "      <td>renew</td>\n",
       "      <td>True</td>\n",
       "      <td>14</td>\n",
       "    </tr>\n",
       "  </tbody>\n",
       "</table>\n",
       "</div>"
      ],
      "text/plain": [
       "   propertyCode floor     price propertyType  size  exterior  rooms  \\\n",
       "0      87688139     3  172000.0         flat  67.0     False      2   \n",
       "1      89127122     2  130000.0         flat  32.0      True      1   \n",
       "2      89115559     1  149000.0         flat  45.0     False      2   \n",
       "3      89102591     5  220000.0         flat  54.0      True      2   \n",
       "4      89123676    bj  103000.0         flat  67.0     False      2   \n",
       "\n",
       "   bathrooms      district                       neighborhood   latitude  \\\n",
       "0          2      Eixample    L'Antiga Esquerra de l'Eixample  41.387739   \n",
       "1          1  Ciutat Vella                           El Raval  41.380189   \n",
       "2          1    Nou Barris                              Porta  41.430582   \n",
       "3          1      Eixample                 La Sagrada Família  41.410451   \n",
       "4          1    Nou Barris  Can Peguera - El Turó de la Peira  41.432788   \n",
       "\n",
       "   longitude  priceByArea status hasLift  Week  \n",
       "0   2.151873       2567.0    NaN     NaN    14  \n",
       "1   2.165333       4063.0   good   False    14  \n",
       "2   2.177449       3311.0   good    True    14  \n",
       "3   2.178700       4074.0   good    True    14  \n",
       "4   2.169198       1537.0  renew    True    14  "
      ]
     },
     "execution_count": 2,
     "metadata": {},
     "output_type": "execute_result"
    }
   ],
   "source": [
    "# Remove unnecesarry columns\n",
    "df = df[['propertyCode', 'floor', 'price', 'propertyType', 'size',\n",
    "       'exterior', 'rooms', 'bathrooms', 'district', 'neighborhood', 'latitude',\n",
    "       'longitude', 'priceByArea', 'status', 'hasLift', 'Week']]\n",
    "\n",
    "df['propertyCode'] = pd.to_numeric(df['propertyCode'], errors='coerce') \n",
    "df['propertyType'] = df['propertyType'].astype('category')\n",
    "df['district'] = df['district'].astype('category')\n",
    "df['neighborhood'] = df['neighborhood'].astype('category')\n",
    "df['status'] = df['status'].astype('category')\n",
    "df['floor'] = df['floor'].astype('str')\n",
    "# drop identical rows (keep only the first instance)\n",
    "df.drop_duplicates(inplace=True)\n",
    "\n",
    "df.reset_index(drop=True, inplace=True)\n",
    "df.head(5)\n"
   ]
  },
  {
   "cell_type": "code",
   "execution_count": 3,
   "metadata": {
    "scrolled": true
   },
   "outputs": [
    {
     "data": {
      "text/html": [
       "<div>\n",
       "<style scoped>\n",
       "    .dataframe tbody tr th:only-of-type {\n",
       "        vertical-align: middle;\n",
       "    }\n",
       "\n",
       "    .dataframe tbody tr th {\n",
       "        vertical-align: top;\n",
       "    }\n",
       "\n",
       "    .dataframe thead th {\n",
       "        text-align: right;\n",
       "    }\n",
       "</style>\n",
       "<table border=\"1\" class=\"dataframe\">\n",
       "  <thead>\n",
       "    <tr style=\"text-align: right;\">\n",
       "      <th></th>\n",
       "      <th>propertyCode</th>\n",
       "      <th>price</th>\n",
       "      <th>size</th>\n",
       "      <th>rooms</th>\n",
       "      <th>bathrooms</th>\n",
       "      <th>latitude</th>\n",
       "      <th>longitude</th>\n",
       "      <th>priceByArea</th>\n",
       "      <th>Week</th>\n",
       "    </tr>\n",
       "  </thead>\n",
       "  <tbody>\n",
       "    <tr>\n",
       "      <th>count</th>\n",
       "      <td>4.527000e+03</td>\n",
       "      <td>4527.000000</td>\n",
       "      <td>4527.000000</td>\n",
       "      <td>4527.000000</td>\n",
       "      <td>4527.000000</td>\n",
       "      <td>4527.000000</td>\n",
       "      <td>4527.000000</td>\n",
       "      <td>4527.000000</td>\n",
       "      <td>4527.000000</td>\n",
       "    </tr>\n",
       "    <tr>\n",
       "      <th>mean</th>\n",
       "      <td>8.891706e+07</td>\n",
       "      <td>237230.465651</td>\n",
       "      <td>98.820543</td>\n",
       "      <td>2.600177</td>\n",
       "      <td>1.209410</td>\n",
       "      <td>41.394622</td>\n",
       "      <td>2.159702</td>\n",
       "      <td>3295.745969</td>\n",
       "      <td>18.211398</td>\n",
       "    </tr>\n",
       "    <tr>\n",
       "      <th>std</th>\n",
       "      <td>3.478155e+06</td>\n",
       "      <td>88232.798011</td>\n",
       "      <td>1708.253675</td>\n",
       "      <td>0.918018</td>\n",
       "      <td>0.421337</td>\n",
       "      <td>0.023752</td>\n",
       "      <td>0.031212</td>\n",
       "      <td>1113.489472</td>\n",
       "      <td>2.293851</td>\n",
       "    </tr>\n",
       "    <tr>\n",
       "      <th>min</th>\n",
       "      <td>7.938120e+05</td>\n",
       "      <td>12900.000000</td>\n",
       "      <td>11.000000</td>\n",
       "      <td>0.000000</td>\n",
       "      <td>0.000000</td>\n",
       "      <td>41.348364</td>\n",
       "      <td>2.083150</td>\n",
       "      <td>1.000000</td>\n",
       "      <td>14.000000</td>\n",
       "    </tr>\n",
       "    <tr>\n",
       "      <th>25%</th>\n",
       "      <td>8.914620e+07</td>\n",
       "      <td>166000.000000</td>\n",
       "      <td>60.000000</td>\n",
       "      <td>2.000000</td>\n",
       "      <td>1.000000</td>\n",
       "      <td>41.373659</td>\n",
       "      <td>2.135736</td>\n",
       "      <td>2500.000000</td>\n",
       "      <td>16.000000</td>\n",
       "    </tr>\n",
       "    <tr>\n",
       "      <th>50%</th>\n",
       "      <td>8.925243e+07</td>\n",
       "      <td>225000.000000</td>\n",
       "      <td>72.000000</td>\n",
       "      <td>3.000000</td>\n",
       "      <td>1.000000</td>\n",
       "      <td>41.389745</td>\n",
       "      <td>2.166147</td>\n",
       "      <td>3214.000000</td>\n",
       "      <td>19.000000</td>\n",
       "    </tr>\n",
       "    <tr>\n",
       "      <th>75%</th>\n",
       "      <td>8.935838e+07</td>\n",
       "      <td>310000.000000</td>\n",
       "      <td>85.000000</td>\n",
       "      <td>3.000000</td>\n",
       "      <td>1.000000</td>\n",
       "      <td>41.415124</td>\n",
       "      <td>2.182051</td>\n",
       "      <td>3933.000000</td>\n",
       "      <td>20.000000</td>\n",
       "    </tr>\n",
       "    <tr>\n",
       "      <th>max</th>\n",
       "      <td>8.949457e+07</td>\n",
       "      <td>400000.000000</td>\n",
       "      <td>115000.000000</td>\n",
       "      <td>6.000000</td>\n",
       "      <td>3.000000</td>\n",
       "      <td>41.449543</td>\n",
       "      <td>2.227291</td>\n",
       "      <td>20818.000000</td>\n",
       "      <td>21.000000</td>\n",
       "    </tr>\n",
       "  </tbody>\n",
       "</table>\n",
       "</div>"
      ],
      "text/plain": [
       "       propertyCode          price           size        rooms    bathrooms  \\\n",
       "count  4.527000e+03    4527.000000    4527.000000  4527.000000  4527.000000   \n",
       "mean   8.891706e+07  237230.465651      98.820543     2.600177     1.209410   \n",
       "std    3.478155e+06   88232.798011    1708.253675     0.918018     0.421337   \n",
       "min    7.938120e+05   12900.000000      11.000000     0.000000     0.000000   \n",
       "25%    8.914620e+07  166000.000000      60.000000     2.000000     1.000000   \n",
       "50%    8.925243e+07  225000.000000      72.000000     3.000000     1.000000   \n",
       "75%    8.935838e+07  310000.000000      85.000000     3.000000     1.000000   \n",
       "max    8.949457e+07  400000.000000  115000.000000     6.000000     3.000000   \n",
       "\n",
       "          latitude    longitude   priceByArea         Week  \n",
       "count  4527.000000  4527.000000   4527.000000  4527.000000  \n",
       "mean     41.394622     2.159702   3295.745969    18.211398  \n",
       "std       0.023752     0.031212   1113.489472     2.293851  \n",
       "min      41.348364     2.083150      1.000000    14.000000  \n",
       "25%      41.373659     2.135736   2500.000000    16.000000  \n",
       "50%      41.389745     2.166147   3214.000000    19.000000  \n",
       "75%      41.415124     2.182051   3933.000000    20.000000  \n",
       "max      41.449543     2.227291  20818.000000    21.000000  "
      ]
     },
     "execution_count": 3,
     "metadata": {},
     "output_type": "execute_result"
    }
   ],
   "source": [
    "df.describe()"
   ]
  },
  {
   "cell_type": "code",
   "execution_count": 4,
   "metadata": {},
   "outputs": [],
   "source": [
    "# Remove propertise with surface area bigger than 150m2 or price higher than 6000 euros/m2\n",
    "df=df.loc[df['size'] < 150]\n",
    "df = df[df['priceByArea'] < 6000]\n",
    "df.reset_index(drop=True, inplace=True)"
   ]
  },
  {
   "cell_type": "code",
   "execution_count": 5,
   "metadata": {},
   "outputs": [
    {
     "name": "stdout",
     "output_type": "stream",
     "text": [
      "Info\n",
      "<class 'pandas.core.frame.DataFrame'>\n",
      "RangeIndex: 4414 entries, 0 to 4413\n",
      "Data columns (total 16 columns):\n",
      " #   Column        Non-Null Count  Dtype   \n",
      "---  ------        --------------  -----   \n",
      " 0   propertyCode  4414 non-null   int64   \n",
      " 1   floor         4414 non-null   object  \n",
      " 2   price         4414 non-null   float64 \n",
      " 3   propertyType  4414 non-null   category\n",
      " 4   size          4414 non-null   float64 \n",
      " 5   exterior      4414 non-null   bool    \n",
      " 6   rooms         4414 non-null   int64   \n",
      " 7   bathrooms     4414 non-null   int64   \n",
      " 8   district      4322 non-null   category\n",
      " 9   neighborhood  4316 non-null   category\n",
      " 10  latitude      4414 non-null   float64 \n",
      " 11  longitude     4414 non-null   float64 \n",
      " 12  priceByArea   4414 non-null   float64 \n",
      " 13  status        4047 non-null   category\n",
      " 14  hasLift       4259 non-null   object  \n",
      " 15  Week          4414 non-null   int64   \n",
      "dtypes: bool(1), category(4), float64(5), int64(4), object(2)\n",
      "memory usage: 405.2+ KB\n",
      "None\n",
      "\n",
      "\n",
      "Null Elements\n",
      "propertyCode      0\n",
      "floor             0\n",
      "price             0\n",
      "propertyType      0\n",
      "size              0\n",
      "exterior          0\n",
      "rooms             0\n",
      "bathrooms         0\n",
      "district         92\n",
      "neighborhood     98\n",
      "latitude          0\n",
      "longitude         0\n",
      "priceByArea       0\n",
      "status          367\n",
      "hasLift         155\n",
      "Week              0\n",
      "dtype: int64\n"
     ]
    }
   ],
   "source": [
    "# Show basic info of each column and number of NaNs\n",
    "\n",
    "print('Info')\n",
    "print(df.info())\n",
    "\n",
    "print('\\n\\nNull Elements')\n",
    "print(df.isnull().sum())"
   ]
  },
  {
   "cell_type": "markdown",
   "metadata": {},
   "source": [
    "## Analyze Duplicates"
   ]
  },
  {
   "cell_type": "markdown",
   "metadata": {},
   "source": [
    "### Generate index of repeated adds\n",
    "The index of all properties is generated. Repeated properties have the same index.\n",
    "\n",
    "E.g. if the following array is given:\n",
    "(1,2,4,1,5,6,4,1,7,9),\n",
    "\n",
    "'duplicatesIndex' will have values:\n",
    "(0,1,2,0,3,4,2,0,5,6)"
   ]
  },
  {
   "cell_type": "code",
   "execution_count": 6,
   "metadata": {},
   "outputs": [],
   "source": [
    "# to proclaim two rows as duplicates, their values have to be within this tollerances\n",
    "sizeDifference=1\n",
    "latitudeDifference=0.0015\n",
    "longitudeDifference=0.0015\n",
    "priceByAreaDifference=600\n",
    "\n",
    "dup=df.copy().reset_index(drop=True)\n",
    "#dup = dup.iloc[:100]\n",
    "dup['duplicatesIndex'] = np.nan\n",
    "\n",
    "# Iterate over each row of data. If duplicates index was not previously set (isnan),\n",
    "# evaluate which rows are within tollerance and set duplicatesIndex\n",
    "for index, tup in enumerate(zip(dup['size'], dup['latitude'], dup['longitude'], \n",
    "                               dup['priceByArea'], dup['rooms'], dup['bathrooms'], \n",
    "                               dup['propertyType'], dup['floor'])):\n",
    "    if np.isnan(dup.duplicatesIndex.iloc[index]):\n",
    "        dup.duplicatesIndex.iloc[((np.abs(dup['size'].values-tup[0]) < sizeDifference) &\n",
    "                            (np.abs(dup['latitude'].values-tup[1]) < latitudeDifference) &\n",
    "                            (np.abs(dup['longitude'].values-tup[2]) < longitudeDifference) &\n",
    "                            (np.abs(dup['priceByArea'].values-tup[3]) < priceByAreaDifference) &\n",
    "                            (dup['rooms'].values == tup[4]) &\n",
    "                            (dup['bathrooms'].values == tup[5]) & \n",
    "                            (dup['propertyType'].values == tup[6]) &\n",
    "                            (dup['floor'].values == tup[7]))] = index\n",
    "        \n",
    "dup['duplicatesIndex'] = dup['duplicatesIndex'].astype(int)"
   ]
  },
  {
   "cell_type": "markdown",
   "metadata": {},
   "source": [
    "### Remove duplicates\n",
    "This cell removes the duplicates by grouping them by 'duplicatesIndex' column.\n",
    "It also generates new columns with minimum and maximum prices extracted from repeated adds and week of first occurence and last occurence of an add.\n",
    "Moreover, columns with absolute price difference and relative price difference in percentage are extracted.\n",
    "\n",
    "Dataframe 'df' contains the data with removed duplicates, whereas dataframe 'dup' contains the data with all adds (without removing the duplicates). Dataframe 'df' is used in the further analysis."
   ]
  },
  {
   "cell_type": "code",
   "execution_count": 7,
   "metadata": {},
   "outputs": [],
   "source": [
    "dup['duplicates'] = dup.duplicated(subset=['duplicatesIndex'], keep=False)\n",
    "df = dup.drop_duplicates(subset=['duplicatesIndex'], keep='last')\n",
    "\n",
    "group_dup = dup.groupby(['duplicatesIndex'])[[\n",
    "    'price', 'priceByArea', 'Week']].agg(['count', 'min', 'max'])\n",
    "\n",
    "group_dup.columns = ['dupPriceCount', 'dupPriceMin', 'dupPriceMax', \n",
    "                     'dupPriceByAreaCount','dupPriceByAreaMin', 'dupPriceByAreaMax', \n",
    "                     'dupWeekCount', 'dupWeekMin', 'dupWeekMax']\n",
    "group_dup = group_dup[['dupPriceCount', 'dupPriceMin', 'dupPriceMax', \n",
    "                     'dupPriceByAreaMin', 'dupPriceByAreaMax', \n",
    "                     'dupWeekMin', 'dupWeekMax']]\n",
    "group_dup.rename(columns={\"dupPriceCount\": \"duplicatesCount\"}, errors=\"raise\", inplace=True)\n",
    "\n",
    "df = df.join(group_dup, on='duplicatesIndex').reset_index(drop=True)\n",
    "\n",
    "df['dupPriceDifference'] = (df['dupPriceMax'] - df['dupPriceMin'])\n",
    "df['dupPriceDifference%'] = 100 * (df['dupPriceDifference'] / df[('dupPriceMax')])"
   ]
  },
  {
   "cell_type": "code",
   "execution_count": 8,
   "metadata": {},
   "outputs": [
    {
     "name": "stdout",
     "output_type": "stream",
     "text": [
      "There are 3092 renewes adds without change in price (94.96%)\n"
     ]
    },
    {
     "data": {
      "image/png": "[encoded data removed]",
      "text/plain": [
       "<Figure size 1080x1080 with 2 Axes>"
      ]
     },
     "metadata": {},
     "output_type": "display_data"
    }
   ],
   "source": [
    "fig_size = (15, 15)\n",
    "fig, ax = plt.subplots(2, figsize=fig_size)\n",
    "df.propertyCode = df.propertyCode.astype(str)\n",
    "sns.scatterplot(y='dupPriceMin', x='dupPriceMax', data=df, ax=ax[0])\n",
    "ax[0].set_title('Renewed adds', fontsize=16)\n",
    "ax[0].set_xlabel('First price')\n",
    "ax[0].set_ylabel('Lowered price')\n",
    "\n",
    "sns.scatterplot(x='dupPriceDifference', y='dupPriceDifference%', data=df, ax=ax[1])\n",
    "ax[1].set_title('Renewed adds with price changed', fontsize=16)\n",
    "ax[1].set_xlabel('Price Difference')\n",
    "ax[1].set_ylabel('Price Difference [%]')\n",
    "\n",
    "changed_price = ((df['dupPriceMin'] - df['dupPriceMax']) == 0).sum()\n",
    "percent_changed_price = 100 * changed_price / df.shape[0]\n",
    "print('There are {} renewes adds without change in price ({:.2f}%)'.format(\n",
    "    changed_price, percent_changed_price))"
   ]
  },
  {
   "cell_type": "code",
   "execution_count": null,
   "metadata": {},
   "outputs": [],
   "source": []
  },
  {
   "cell_type": "markdown",
   "metadata": {},
   "source": [
    "## Impute missing district and neighborhood\n",
    "Impute missing district and neighborhood based on kNN and geolocation (latitude, longitude)"
   ]
  },
  {
   "cell_type": "code",
   "execution_count": 9,
   "metadata": {},
   "outputs": [
    {
     "name": "stdout",
     "output_type": "stream",
     "text": [
      "\n",
      "\n",
      " There are 60 Null Elements in district to be imputed.\n"
     ]
    }
   ],
   "source": [
    "print('\\n\\n There are '+ repr(df.district.isnull().sum()) +' Null Elements in district to be imputed.')\n",
    "\n",
    "index_missing = df.index[df.district.isnull()]\n",
    "\n",
    "X = df.dropna(subset=['district']).loc[:,['latitude', 'longitude']]\n",
    "y= df.dropna(subset =['district']).loc[:,'district']\n",
    "assert X.shape[0]==y.shape[0], 'Dimensions do not match!'\n",
    "model = neighbors.KNeighborsClassifier(2, weights='distance')\n",
    "## Evaluate a knn model on the dataset using k-fold cross validation\n",
    "# kfold = KFold(n_splits=3, random_state=7)\n",
    "# result = cross_val_score(model, X, y, cv=kfold, scoring='accuracy')\n",
    "# print(result.mean())\n",
    "model.fit(X,y)\n",
    "df.loc[index_missing, 'district'] = model.predict(X=df.loc[index_missing,['latitude', 'longitude']])"
   ]
  },
  {
   "cell_type": "code",
   "execution_count": 10,
   "metadata": {},
   "outputs": [
    {
     "name": "stdout",
     "output_type": "stream",
     "text": [
      "\n",
      "\n",
      " There are 66 Null Elements in neighborhood to be imputed.\n"
     ]
    }
   ],
   "source": [
    "print('\\n\\n There are '+ repr(df.neighborhood.isnull().sum()) +' Null Elements in neighborhood to be imputed.')\n",
    "\n",
    "index_missing = df.index[df.neighborhood.isnull()]\n",
    "\n",
    "X = df.dropna(subset=['neighborhood']).loc[:,['latitude', 'longitude']]\n",
    "y= df.dropna(subset =['neighborhood']).loc[:,'neighborhood']\n",
    "assert X.shape[0]==y.shape[0], 'Dimensions do not match!'\n",
    "model = neighbors.KNeighborsClassifier(2, weights='distance')\n",
    "## evaluate a knn model on the dataset using k-fold cross validation\n",
    "# kfold = KFold(n_splits=3, random_state=7)\n",
    "# result = cross_val_score(model, X, y, cv=kfold, scoring='accuracy')\n",
    "# print(result.mean())\n",
    "model.fit(X,y)\n",
    "df.loc[index_missing, 'neighborhood'] = model.predict(X=df.loc[index_missing,['latitude', 'longitude']])"
   ]
  },
  {
   "cell_type": "markdown",
   "metadata": {},
   "source": [
    "## Analyze property types"
   ]
  },
  {
   "cell_type": "code",
   "execution_count": 11,
   "metadata": {},
   "outputs": [
    {
     "data": {
      "image/png": "[encoded data removed]",
      "text/plain": [
       "<Figure size 1080x720 with 1 Axes>"
      ]
     },
     "metadata": {},
     "output_type": "display_data"
    }
   ],
   "source": [
    "fig_size = (15,10)\n",
    "fig, ax = plt.subplots(1,figsize=fig_size)\n",
    "sns.countplot(x='propertyType', data=df, ax=ax);\n",
    "fig.suptitle('Count of property types');"
   ]
  },
  {
   "cell_type": "markdown",
   "metadata": {},
   "source": [
    "### Check distribution of Price, Size, and Price by Area"
   ]
  },
  {
   "cell_type": "code",
   "execution_count": 12,
   "metadata": {},
   "outputs": [
    {
     "data": {
      "image/png": "[encoded data removed]",
      "text/plain": [
       "<Figure size 1080x864 with 3 Axes>"
      ]
     },
     "metadata": {},
     "output_type": "display_data"
    }
   ],
   "source": [
    "# Prices over 400k are exluded when requesting info from Idealista\n",
    "fig_size = (15,12)\n",
    "fig, ax = plt.subplots(3,figsize=fig_size)\n",
    "\n",
    "sns.distplot(df['price'], hist=True, kde=True, \n",
    "             bins=30, color = 'blue',\n",
    "             hist_kws={'edgecolor':'black'}, ax = ax[0])\n",
    "ax[0].set_title('Distributions', fontsize=16);\n",
    "ax[0].set_xlabel('Price');\n",
    "ax[0].set_ylabel('Density');\n",
    "\n",
    "\n",
    "sns.distplot(df['size'], hist=True, \n",
    "             bins=40, color = 'blue',\n",
    "             hist_kws={'edgecolor':'black'}, ax = ax[1])\n",
    "ax[1].set_xlabel('Size');\n",
    "ax[1].set_ylabel('Density');\n",
    "\n",
    "\n",
    "sns.distplot(df['priceByArea'], hist=True, kde=True, \n",
    "             bins=40, color = 'blue',\n",
    "             hist_kws={'edgecolor':'black'}, ax = ax[2])\n",
    "ax[2].set_xlabel('Price by Area');\n",
    "ax[2].set_ylabel('Density');\n"
   ]
  },
  {
   "cell_type": "code",
   "execution_count": null,
   "metadata": {},
   "outputs": [],
   "source": [
    "# Check for each type of property\n",
    "\n",
    "fig_size = (15,12)\n",
    "fig, ax = plt.subplots(3,figsize=fig_size)\n",
    "\n",
    "for typeOfProperty in df.propertyType.unique():\n",
    "    dfDist = df.loc[df['propertyType']==typeOfProperty, ['price', 'size', 'priceByArea']]\n",
    "    \n",
    "    sns.distplot(dfDist['price'], hist=False, kde=True, \n",
    "             kde_kws = {'shade': True, 'linewidth': 3},\n",
    "                 label = typeOfProperty, ax = ax[0])\n",
    "    \n",
    "    sns.distplot(dfDist['size'], hist=False, kde=True,\n",
    "             kde_kws = {'shade': True, 'linewidth': 3},\n",
    "                 label = typeOfProperty, ax = ax[1])\n",
    "    \n",
    "    sns.distplot(dfDist['priceByArea'], hist=False, kde=True, \n",
    "             kde_kws = {'shade': True, 'linewidth': 3},\n",
    "                 label = typeOfProperty, ax = ax[2])\n",
    "    \n",
    "# Add labels\n",
    "ax[0].set_title('Distributions per property type', fontsize=16);\n",
    "ax[0].set_xlabel('Price');\n",
    "ax[0].set_ylabel('Density');\n",
    "\n",
    "ax[1].set_xlabel('Size');\n",
    "ax[1].set_ylabel('Density');\n",
    "\n",
    "ax[2].set_xlabel('Price by Area');\n",
    "ax[2].set_ylabel('Density');\n",
    "    \n",
    "    "
   ]
  },
  {
   "cell_type": "markdown",
   "metadata": {},
   "source": [
    "### Scatter plot of Price by Area vs. Size for each property type"
   ]
  },
  {
   "cell_type": "code",
   "execution_count": null,
   "metadata": {},
   "outputs": [],
   "source": [
    "fig_size = (15,10)\n",
    "fig, ax = plt.subplots(figsize=fig_size)\n",
    "sns.scatterplot(y='priceByArea', x='size', hue='propertyType', data=df, ax=ax)\n",
    "fig.suptitle('Price by area vs. size', fontsize=16);\n"
   ]
  },
  {
   "cell_type": "markdown",
   "metadata": {},
   "source": [
    "### Number of rooms"
   ]
  },
  {
   "cell_type": "code",
   "execution_count": null,
   "metadata": {},
   "outputs": [],
   "source": [
    "sns.set_style(\"whitegrid\")\n",
    "fig_size = (15,12)\n",
    "fig, ax = plt.subplots(2, figsize=fig_size)\n",
    "\n",
    "sns.countplot(x='rooms', orient = 0, data = df, ax = ax[0])\n",
    "ax[0].set_title('Number of rooms per apartment', fontsize=16);\n",
    "ax[0].set_ylabel('Count');\n",
    "\n",
    "sns.countplot(x = 'district', hue = 'rooms', orient = 0, data = df, ax = ax[1])\n",
    "ax[1].set_xticklabels(ax[1].get_xticklabels(),rotation=90);\n",
    "ax[1].set_title('Number of rooms per apartment per deistrict');\n",
    "ax[1].set_ylabel('Count');\n"
   ]
  },
  {
   "cell_type": "markdown",
   "metadata": {},
   "source": [
    "## Analyze the relationship of floor and price"
   ]
  },
  {
   "cell_type": "markdown",
   "metadata": {},
   "source": [
    "### Clean floors\n",
    "Clean floors and create new numerical column 'floorSort' with floor values"
   ]
  },
  {
   "cell_type": "code",
   "execution_count": null,
   "metadata": {},
   "outputs": [],
   "source": [
    "df['floor'] = df['floor'].astype('string')\n",
    "df['floorSort'] = df['floor']\n",
    "df['floorSort'].replace('en', str(0), inplace= True) # entreplanta = 0\n",
    "df['floorSort'].replace('bj', str(-1), inplace= True) # bajo = -1\n",
    "df['floorSort'].replace('ss', str(-1), inplace= True) # semisotano = -1\n",
    "df['floorSort'].replace('st', str(-1), inplace= True) # semisotano = -1\n",
    "df['floorSort'].replace('nan', str(-2), inplace= True) # nan = -2\n",
    "df['floorSort'].replace('Unknown', str(-1), inplace= True) # Set unknown to -2\n",
    "\n",
    "df.floorSort = df.floorSort.apply(pd.to_numeric)\n",
    "\n",
    "# 'st' and 'ss' are bothsemisotano\n",
    "df['floor'].replace('st', 'ss', inplace= True) \n",
    "\n",
    "# Show property type 'Penthouse' as floor\n",
    "df.loc[df['propertyType'] == 'penthouse', 'floor'] =  'Penthouse'# Set unknown to -2\n",
    "df.loc[df['propertyType'] == 'penthouse', 'floorSort'] =  df.floorSort.max() + 1# Set unknown to -2\n",
    "\n",
    "# Create new categorical variable with floors\n",
    "df['floorCategorical'] = df['floor']\n",
    "df.loc[df['floorSort']==-2, ['floorCategorical']] = None\n",
    "df.loc[(df['floorSort']>=1)&(df['floorSort']<=3), ['floorCategorical']] = 'Low'\n",
    "df.loc[(df['floorSort']>=4)&(df['floorSort']<=6), ['floorCategorical']] = 'Mid'\n",
    "df.loc[(df['floorSort']>=7)&(df['floor']!='Penthouse'), ['floorCategorical']] = 'High'\n",
    "df['floorCategorical'] = df['floorCategorical'].astype('category')\n"
   ]
  },
  {
   "cell_type": "markdown",
   "metadata": {},
   "source": [
    "### Counts and price distribution per floor"
   ]
  },
  {
   "cell_type": "code",
   "execution_count": null,
   "metadata": {},
   "outputs": [],
   "source": [
    "# Do not plot NaNs\n",
    "fig_size = (15, 12)\n",
    "fig, ax = plt.subplots(3, figsize=fig_size)\n",
    "fig.suptitle(\n",
    "    'Analysis per floor (Violinplots are scaled by count)', fontsize=16)\n",
    "sns.countplot(x='floor', data=df.loc[df['floorSort'] != -\n",
    "                                     2].sort_values(by=['floorSort']), orient='v', ax=ax[0])\n",
    "ax[0].set_xlabel('Floor')\n",
    "ax[0].set_ylabel('Count')\n",
    "\n",
    "sns.boxplot(x='floor', y='size',\n",
    "            data=df.loc[df['floorSort'] != -2].sort_values(by=['floorSort']), ax=ax[1])\n",
    "ax[1].set_xlabel('Floor')\n",
    "ax[1].set_ylabel('Size')\n",
    "\n",
    "sns.violinplot(x='floor', y='priceByArea', scale='count',\n",
    "               data=df.loc[df['floorSort'] != -2].sort_values(by=['floorSort']), ax=ax[2])\n",
    "ax[2].set_xlabel('Floor')\n",
    "ax[2].set_ylabel('Price by Area')\n",
    "\n",
    "\n",
    "# Plot 'floorCategorical'\n",
    "fig_size = (15, 12)\n",
    "fig, ax = plt.subplots(3, figsize=fig_size)\n",
    "fig.suptitle(\n",
    "    'Analysis per floor', fontsize=16)\n",
    "sns.countplot(x='floorCategorical', data=df, order=[\n",
    "              'ss', 'bj', 'en', 'Low', 'Mid', 'High', 'Penthouse'], orient='v', ax=ax[0])\n",
    "ax[0].set_xlabel('Floor')\n",
    "ax[0].set_ylabel('Count')\n",
    "\n",
    "sns.boxplot(x='floorCategorical', y='size', data=df, order=[\n",
    "              'ss', 'bj', 'en', 'Low', 'Mid', 'High', 'Penthouse'], ax=ax[1])\n",
    "ax[1].set_xlabel('Floor')\n",
    "ax[1].set_ylabel('Size')\n",
    "\n",
    "sns.violinplot(x='floorCategorical', y='priceByArea', scale='width', data=df,\n",
    "               order=['ss', 'bj', 'en', 'Low', 'Mid', 'High', 'Penthouse'], ax=ax[2])\n",
    "ax[2].set_xlabel('Floor')\n",
    "ax[2].set_ylabel('Price by Area')"
   ]
  },
  {
   "cell_type": "markdown",
   "metadata": {},
   "source": [
    "### Analyze number of penthouses per district"
   ]
  },
  {
   "cell_type": "code",
   "execution_count": null,
   "metadata": {},
   "outputs": [],
   "source": [
    "def get_penthouse(x):\n",
    "    return x.loc[x == 'penthouse'].count()\n",
    "\n",
    "\n",
    "def get_all_properties(x):\n",
    "    return x.count()\n",
    "\n",
    "\n",
    "fig, ax = plt.subplots(1, figsize=(15, 10))\n",
    "\n",
    "\n",
    "aux = df[['district', 'propertyType']].groupby(['district']).agg(\n",
    "    [get_penthouse, get_all_properties])\n",
    "aux.columns = ['Penthouses', 'All properties']\n",
    "aux.sort_values(by='Penthouses').plot.barh(stacked=True, ax=ax)\n",
    "ax.set_title(\n",
    "    'Number of penthouses per district with respect to the total number of properties', \n",
    "    fontsize=16);"
   ]
  },
  {
   "cell_type": "markdown",
   "metadata": {},
   "source": [
    "## Location"
   ]
  },
  {
   "cell_type": "markdown",
   "metadata": {},
   "source": [
    "### Plot properties to the map\n",
    "Plot properties and penthouses with respect to price by area and size."
   ]
  },
  {
   "cell_type": "code",
   "execution_count": null,
   "metadata": {},
   "outputs": [],
   "source": [
    "import geopandas as gpd\n",
    "import descartes\n",
    "import contextily as ctx\n",
    "\n",
    "\n",
    "gdf = gpd.GeoDataFrame(\n",
    "    df, geometry=gpd.points_from_xy(df.longitude, df.latitude))\n",
    "gdf.crs = {'init': 'epsg:4326'}\n",
    "gdf = gdf.to_crs(epsg=3857)\n",
    "\n",
    "figsize = (15,15)\n",
    "fig, ax = plt.subplots(1, figsize=figsize)\n",
    "gdf.plot(column='priceByArea', cmap='hot',  legend=True, alpha=0.9, ax=ax)\n",
    "ctx.add_basemap(ax)\n",
    "ax.set_title(\"Price by area\", fontsize=16);\n",
    "\n",
    "fig, ax = plt.subplots(1, figsize=figsize)\n",
    "gdf.loc[gdf['propertyType'] == 'penthouse'].plot(\n",
    "    column='priceByArea', cmap='hot', legend=True, alpha=0.9, ax=ax)\n",
    "ctx.add_basemap(ax)\n",
    "ax.set_title(\"Price by area - Only penthouses\", fontsize=16);\n",
    "\n",
    "fig, ax = plt.subplots(1, figsize=figsize)\n",
    "gdf.plot(column='size', cmap='hot', legend=True, alpha=0.9, ax=ax)\n",
    "ctx.add_basemap(ax)\n",
    "ax.set_title(\"Size\", fontsize=16);"
   ]
  },
  {
   "cell_type": "markdown",
   "metadata": {},
   "source": [
    "### Analyze prices per district"
   ]
  },
  {
   "cell_type": "code",
   "execution_count": null,
   "metadata": {},
   "outputs": [],
   "source": [
    "fig_size = (15, 12)\n",
    "fig, ax = plt.subplots(2, figsize=fig_size)\n",
    "\n",
    "sns.countplot(x='district', data=df,\n",
    "              order=df.groupby('district')['priceByArea'].median().sort_values(ascending=False).index, orient='v', ax=ax[0])\n",
    "ax[0].set_xticks([])\n",
    "ax[0].set_xlabel(None)\n",
    "ax[0].set_title(\n",
    "    'Total number of properties per district', fontsize=16);\n",
    "\n",
    "sns.boxplot(y='priceByArea', x='district', data=df, ax=ax[1],\n",
    "            order=df.groupby('district')['priceByArea'].median().sort_values(ascending=False).index)\n",
    "ax[1].set_xticklabels(ax[1].get_xticklabels(), rotation=90,\n",
    "                      horizontalalignment='right')\n",
    "ax[1].set_title(\n",
    "    'Price per district', fontsize=16);"
   ]
  },
  {
   "cell_type": "markdown",
   "metadata": {},
   "source": [
    "### Change in price over time\n",
    "Check the fluctuations per week"
   ]
  },
  {
   "cell_type": "code",
   "execution_count": null,
   "metadata": {},
   "outputs": [],
   "source": [
    "fig_size = (15, 12)\n",
    "fig, ax = plt.subplots(2, figsize=fig_size)\n",
    "\n",
    "sns.countplot(x='Week', data=df, ax=ax[0])\n",
    "ax[0].set_xticks([])\n",
    "ax[0].set_xlabel(None)\n",
    "ax[0].set_title(\n",
    "    'Number of properties per week', fontsize=16);\n",
    "\n",
    "sns.violinplot(x='Week', y='priceByArea', data=df, ax=ax[1])\n",
    "ax[1].set_title(\n",
    "    'Prices per week', fontsize=16);"
   ]
  },
  {
   "cell_type": "markdown",
   "metadata": {},
   "source": [
    "# Analysis of apartment status"
   ]
  },
  {
   "cell_type": "code",
   "execution_count": null,
   "metadata": {},
   "outputs": [],
   "source": [
    "fig_size = (15, 12)\n",
    "fig, ax = plt.subplots(2, figsize=fig_size)\n",
    "sns.countplot(x='status', data=df, ax=ax[0]);\n",
    "ax[0].set_xticks([]);\n",
    "ax[0].set_xlabel(None);\n",
    "sns.violinplot(y='priceByArea', x= 'status', data=df, ax=ax[1])\n",
    "fig.suptitle('Analysis of status of the apartments', fontsize=16);\n",
    "\n",
    "fig_size = (15, 12)\n",
    "fig, ax = plt.subplots(2, figsize=fig_size)\n",
    "sns.countplot(x='district', hue='status', data=df, ax=ax[0],\n",
    "             order=df.groupby('district')['status'].count().sort_values(ascending=False).index);\n",
    "ax[0].set_xticks([]);\n",
    "ax[0].set_xlabel(None);\n",
    "sns.boxplot(x='district', y='priceByArea', hue='status',data=df,ax=ax[1],\n",
    "           order=df.groupby('district')['status'].count().sort_values(ascending=False).index);\n",
    "ax[1].set_xticklabels(ax[1].get_xticklabels(), rotation=90,\n",
    "                      horizontalalignment='right');\n",
    "fig.suptitle('Analysis of status of the apartments by district', fontsize=16);"
   ]
  },
  {
   "cell_type": "markdown",
   "metadata": {},
   "source": [
    "## Analysis of elevator\n",
    "Check if the elevator has an effect on the price"
   ]
  },
  {
   "cell_type": "code",
   "execution_count": null,
   "metadata": {},
   "outputs": [],
   "source": [
    "# Compare price by area depending on the floor and the lift\n",
    "fig_size = (12, 10)\n",
    "fig, ax = plt.subplots(1, figsize=fig_size)\n",
    "aux=df\n",
    "aux['highFloor']=False\n",
    "aux.loc[aux['floorSort']>2, 'highFloor'] = True\n",
    "sns.violinplot(x='hasLift', y='priceByArea', hue='highFloor', scale='count', data=aux,ax=ax);\n",
    "ax.set_title('Price by area vs lift vs floor (Violin plots are scaled with respect to count)', fontsize=16);\n",
    "\n",
    "fig_size = (15, 12)\n",
    "fig, ax = plt.subplots(2, figsize=fig_size)\n",
    "sns.countplot(x='district', hue='hasLift', data=df, ax=ax[0],\n",
    "             order=df.groupby('district')['hasLift'].count().sort_values(ascending=False).index);\n",
    "ax[0].set_xticks([]);\n",
    "ax[0].set_xlabel(None);\n",
    "\n",
    "sns.boxplot(x='district', y='priceByArea', hue='hasLift', data=df,ax=ax[1],\n",
    "           order=df.groupby('district')['hasLift'].count().sort_values(ascending=False).index);\n",
    "ax[1].set_xticklabels(ax[1].get_xticklabels(), rotation=90,\n",
    "                      horizontalalignment='right');\n",
    "fig.suptitle('Price by area vs elevator', fontsize=16);"
   ]
  },
  {
   "cell_type": "markdown",
   "metadata": {},
   "source": [
    "## Exterior/interior\n",
    "Check  the effect of interior/exterior property on the price"
   ]
  },
  {
   "cell_type": "code",
   "execution_count": null,
   "metadata": {},
   "outputs": [],
   "source": [
    "fig_size = (15, 12)\n",
    "fig, ax = plt.subplots(2, figsize=fig_size)\n",
    "sns.countplot(x='district', hue='exterior', data=df, ax=ax[0],\n",
    "             order=df.groupby('district')['exterior'].count().sort_values(ascending=False).index);\n",
    "ax[0].set_xticks([]);\n",
    "ax[0].set_xlabel(None);\n",
    "\n",
    "sns.boxplot(x='district', y='priceByArea', hue='exterior',data=df,ax=ax[1],\n",
    "           order=df.groupby('district')['exterior'].count().sort_values(ascending=False).index);\n",
    "ax[1].set_xticklabels(ax[1].get_xticklabels(), rotation=90,\n",
    "                      horizontalalignment='right');\n",
    "fig.suptitle('Analysis of exterior/interior apartments', fontsize=16);"
   ]
  },
  {
   "cell_type": "markdown",
   "metadata": {},
   "source": [
    "# Price Prediction\n",
    "Using regression a price for each property is predicted. The properties with a significantly lower price than the predicted value are identified as a good investment oportunity."
   ]
  },
  {
   "cell_type": "markdown",
   "metadata": {},
   "source": [
    "### Organize and clean the data"
   ]
  },
  {
   "cell_type": "code",
   "execution_count": null,
   "metadata": {},
   "outputs": [],
   "source": [
    "# Print the names of the columns\n",
    "print('Available features are:')\n",
    "for i in df.columns:\n",
    "    print(i, end=', ')\n",
    "\n",
    "df_model = df[['propertyType', 'size', 'exterior', 'rooms', 'bathrooms',\n",
    "              'latitude', 'longitude', 'priceByArea', 'status', 'hasLift', 'Week', 'floorCategorical']]"
   ]
  },
  {
   "cell_type": "code",
   "execution_count": null,
   "metadata": {},
   "outputs": [],
   "source": [
    "def clean_modelling_data(df, dropNaN=True):\n",
    "    data = df\n",
    "    \n",
    "    # drop NaNs\n",
    "    numberOfNans = data.isnull().sum().sum()/data.shape[0]\n",
    "    #assert numberOfNans<0.05, \"Oh no! The number of NaNs is \"+str(numberOfNans)+\"%\"\n",
    "    print(\"The number of NaNs is \"+str(numberOfNans)+\"%\")\n",
    "    if dropNaN==True:\n",
    "        print (\"NaN's dropped.\")\n",
    "        data = data.dropna().reset_index(drop=True)\n",
    "   # data['hasLift'] = data['hasLift'].astype('bool')\n",
    "\n",
    "    # get 0/1 for bool varibales\n",
    "    data['exterior'] = data['exterior'].astype(int)\n",
    "    #data['hasLift'] = data['hasLift'].astype(int)\n",
    "\n",
    "    # get dummies for categorical variables\n",
    "    data = pd.get_dummies(data)\n",
    "    return data\n",
    "\n",
    "df_model = clean_modelling_data(df_model)"
   ]
  },
  {
   "cell_type": "markdown",
   "metadata": {},
   "source": [
    "### Linear Regression\n",
    "Simple linear regression model and the performance"
   ]
  },
  {
   "cell_type": "code",
   "execution_count": null,
   "metadata": {},
   "outputs": [],
   "source": [
    "from sklearn.linear_model import LinearRegression\n",
    "from sklearn import ensemble\n",
    "from sklearn.model_selection import train_test_split\n",
    "from sklearn.metrics import mean_squared_error\n",
    "from sklearn.inspection import permutation_importance\n",
    "\n",
    "reg = LinearRegression()\n",
    "\n",
    "labels = df_model['priceByArea']\n",
    "train1 = df_model.drop(['priceByArea'],axis=1)\n",
    "x_train , x_test , y_train , y_test = train_test_split(train1 , labels , test_size = 0.25,random_state =2)\n",
    "\n",
    "reg.fit(x_train,y_train)\n",
    "reg.score(x_test,y_test)\n",
    "\n",
    "mse_train = mean_squared_error(y_train, reg.predict(x_train))\n",
    "mse_test = mean_squared_error(y_test, reg.predict(x_test))\n",
    "R2_train = reg.score(x_train,y_train)\n",
    "R2_test = reg.score(x_test,y_test)\n",
    "print(\"The mean squared error (MSE) on train set: {:.4f}\".format(mse_train))\n",
    "print(\"The mean squared error (MSE) on test set: {:.4f}\".format(mse_test))\n",
    "print(\"\\nThe R square (R2) on train set: {:.4f}\".format(R2_train))\n",
    "print(\"The R square (R2) on test set: {:.4f}\".format(R2_test))\n",
    "fig,ax= plt.subplots(1,figsize=(15, 10))\n",
    "sns.scatterplot(x=y_test, y=reg.predict(x_test));\n",
    "ax.set_ylabel('Predicted price by area');\n",
    "ax.set_xlabel('True price by area');\n",
    "ax.set_title('Price by area prediction', fontsize=16);\n",
    "\n",
    "#plt.scatter(y_test, reg.predict(x_test),  color='black');"
   ]
  },
  {
   "cell_type": "markdown",
   "metadata": {},
   "source": [
    "#### Improve the linear regression using ensemble learner\n",
    "Improve the linear regression using Gradient Boosting Regressor"
   ]
  },
  {
   "cell_type": "code",
   "execution_count": null,
   "metadata": {},
   "outputs": [],
   "source": [
    "params = {'n_estimators': 1000,\n",
    "          'max_depth': 12,\n",
    "          'min_samples_split': 2,\n",
    "          'learning_rate': 0.01,\n",
    "          'loss': 'ls'}\n",
    "reg = ensemble.GradientBoostingRegressor(**params)\n",
    "reg.fit(x_train, y_train)\n",
    "\n",
    "mse_train = mean_squared_error(y_train, reg.predict(x_train))\n",
    "mse_test = mean_squared_error(y_test, reg.predict(x_test))\n",
    "R2_train = reg.score(x_train,y_train)\n",
    "R2_test = reg.score(x_test,y_test)\n",
    "print(\"The mean squared error (MSE) on train set: {:.4f}\".format(mse_train))\n",
    "print(\"The mean squared error (MSE) on test set: {:.4f}\".format(mse_test))\n",
    "print(\"\\nThe R square (R2) on train set: {:.4f}\".format(R2_train))\n",
    "print(\"The R square (R2) on test set: {:.4f}\".format(R2_test))\n",
    "\n",
    "test_score = np.zeros((params['n_estimators'],), dtype=np.float64)\n",
    "for i, y_pred in enumerate(reg.staged_predict(x_test)):\n",
    "    test_score[i] = reg.loss_(y_test, y_pred)\n",
    "\n",
    "fig,ax= plt.subplots(1,figsize=(15, 10))\n",
    "\n",
    "plt.plot(np.arange(params['n_estimators']) + 1, reg.train_score_, 'b-',\n",
    "        label='Training Set Deviance')\n",
    "plt.plot(np.arange(params['n_estimators']) + 1, test_score, 'r-', label='Test set deviance')\n",
    "        \n",
    "plt.legend(loc='upper right')\n",
    "plt.xlabel('Boosting Iterations')\n",
    "plt.ylabel('Deviance')\n",
    "plt.title('Deviance')\n",
    "\n",
    "fig,ax= plt.subplots(1,figsize=(15, 10))\n",
    "sns.scatterplot(x=y_test, y=reg.predict(x_test));\n",
    "ax.set_ylabel('Predicted price by area');\n",
    "ax.set_xlabel('True price by area');\n",
    "ax.set_title('Price by area prediction', fontsize=16);\n"
   ]
  },
  {
   "cell_type": "code",
   "execution_count": null,
   "metadata": {},
   "outputs": [],
   "source": [
    "# Analyze error on Penthouses\n",
    "R2_test_penthouse = reg.score(\n",
    "    x_test.loc[x_test['propertyType_penthouse'] == 1], y_test.loc[x_test['propertyType_penthouse'] == 1])\n",
    "print(\"The R square (R2) on test set: {:.4f}\".format(R2_test_penthouse))\n",
    "\n",
    "fig, ax = plt.subplots(1, figsize=(15, 10))\n",
    "sns.scatterplot(x=y_test.loc[x_test['propertyType_penthouse'] == 1], y=reg.predict(\n",
    "    x_test.loc[x_test['propertyType_penthouse'] == 1]))\n",
    "ax.set_ylabel('Predicted price by area');\n",
    "ax.set_xlabel('True price by area');\n",
    "ax.set_title('Price by area prediction - Penthouses', fontsize=16);"
   ]
  },
  {
   "cell_type": "markdown",
   "metadata": {},
   "source": [
    "#### Perform Permutation Feature Importance analysis"
   ]
  },
  {
   "cell_type": "code",
   "execution_count": null,
   "metadata": {},
   "outputs": [],
   "source": [
    "feature_importance = reg.feature_importances_\n",
    "sorted_idx = np.argsort(feature_importance)\n",
    "pos = np.arange(sorted_idx.shape[0]) + .5\n",
    "fig = plt.figure(figsize=(12, 6))\n",
    "plt.subplot(1, 2, 1)\n",
    "plt.barh(pos, feature_importance[sorted_idx], align='center')\n",
    "plt.yticks(pos, np.array(train1.columns)[sorted_idx])\n",
    "plt.title('Feature Importance (MDI)')\n",
    "\n",
    "result = permutation_importance(reg, x_test, y_test, n_repeats=10,\n",
    "                                random_state=42, n_jobs=2)\n",
    "sorted_idx = result.importances_mean.argsort()\n",
    "plt.subplot(1, 2, 2)\n",
    "plt.boxplot(result.importances[sorted_idx].T,\n",
    "            vert=False, labels=np.array(train1.columns)[sorted_idx])\n",
    "plt.title(\"Permutation Importance (test set)\")\n",
    "fig.tight_layout()"
   ]
  },
  {
   "cell_type": "markdown",
   "metadata": {},
   "source": [
    "### Identify the best offers in terms of Price by Area"
   ]
  },
  {
   "cell_type": "markdown",
   "metadata": {},
   "source": [
    "#### Train the model on all samples"
   ]
  },
  {
   "cell_type": "code",
   "execution_count": null,
   "metadata": {},
   "outputs": [],
   "source": [
    "# Recreate feature set\n",
    "#df_model = df[['propertyType', 'size', 'exterior', 'rooms', 'bathrooms',\n",
    "#              'latitude', 'longitude', 'priceByArea', 'status', 'hasLift', 'Week', 'floorCategorical']]\n",
    "#df_model_train = clean_modelling_data(df_model, dropNaN=True)\n",
    "# Drop unnecessary features\n",
    "#df_model_train = df_model_train.drop(['propertyType_studio', 'propertyType_duplex', 'propertyType_countryHouse', 'propertyType_chalet',\n",
    "#                          'status_newdevelopment', 'status_good', 'exterior',\n",
    "#                         'floorCategorical_High', 'floorCategorical_Mid', 'floorCategorical_en', 'floorCategorical_ss',\n",
    "#                          'floorCategorical_Penthouse'\n",
    "#                         ], axis=1)\n",
    "\n",
    "\n",
    "# Don't use status ad has lift becasue these features contain a lot of nans\n",
    "df_model = df[['propertyType', 'size', 'exterior', 'rooms', 'bathrooms',\n",
    "              'latitude', 'longitude', 'priceByArea', 'Week', 'floorCategorical']]\n",
    "df_model.loc[df_model['floorCategorical'].isnull()]='Low'\n",
    "1/0\n",
    "df_model = clean_modelling_data(df_model, dropNaN=True)\n",
    "# Drop unnecessary features\n",
    "df_model = df_model.drop(['propertyType_studio', 'propertyType_duplex', 'propertyType_countryHouse', 'propertyType_chalet',\n",
    "                        'exterior', 'floorCategorical_High', 'floorCategorical_Mid', 'floorCategorical_en', 'floorCategorical_ss',\n",
    "                          'floorCategorical_Penthouse'\n",
    "                         ], axis=1)\n",
    "\n",
    "print('Using features:')\n",
    "for i in df_model.columns:\n",
    "    print(i, end=', ')\n",
    "df_model.loc[df_model]\n",
    "\n",
    "\n",
    "# Print the names of the columns\n",
    "print('Using features:')\n",
    "for i in df_model.columns:\n",
    "    print(i, end=', ')\n",
    "\n",
    "params = {'n_estimators': 400,\n",
    "          'max_depth': 12,\n",
    "          'min_samples_split': 2,\n",
    "          'learning_rate': 0.01,\n",
    "          'loss': 'ls'}\n",
    "reg = ensemble.GradientBoostingRegressor(**params)\n",
    "reg.fit(df_model.drop(['priceByArea'], axis=1), df_model['priceByArea'])\n",
    "\n",
    "mse_train = mean_squared_error(df_model['priceByArea'], reg.predict(\n",
    "    df_model.drop(['priceByArea'], axis=1)))\n",
    "R2_train = reg.score(df_model.drop(\n",
    "    ['priceByArea'], axis=1), df_model['priceByArea'])\n",
    "print(\"The mean squared error (MSE) on train set: {:.4f}\".format(mse_train))\n",
    "print(\"The R square (R2) on train set: {:.4f}\".format(R2_train))\n",
    "\n",
    "fig, ax = plt.subplots(1, figsize=(15, 10))\n",
    "sns.scatterplot(df_model['priceByArea'], reg.predict(\n",
    "    df_model.drop(['priceByArea'], axis=1)))\n",
    "ax.set_ylabel('True price by area');\n",
    "ax.set_xlabel('Predicted price by area');\n",
    "ax.set_title('Price by area prediction', fontsize=16);"
   ]
  },
  {
   "cell_type": "markdown",
   "metadata": {},
   "source": [
    "#### Create new columns in df with predicted price, price difference, and savings"
   ]
  },
  {
   "cell_type": "code",
   "execution_count": null,
   "metadata": {},
   "outputs": [],
   "source": [
    "df_model['predictedPrice'] = reg.predict(df_model.drop(['priceByArea'],axis=1))\n",
    "# Price difference = PredictedPrice- priceByArea ==> the higher numbers are better investment\n",
    "df_model['priceDifference'] = df_model['predictedPrice']-df_model['priceByArea']\n",
    "\n",
    "df=df.join(df_model[['predictedPrice', 'priceDifference']])\n",
    "df['savings'] = df['size']*df['priceDifference']"
   ]
  },
  {
   "cell_type": "markdown",
   "metadata": {},
   "source": [
    "Show only the properties cheaper more than 'threshold' than predicted price (e.g. 10 000 euros)."
   ]
  },
  {
   "cell_type": "code",
   "execution_count": null,
   "metadata": {},
   "outputs": [],
   "source": [
    "# show only the properties cheaper by threashold from predicted price \n",
    "saving_threashold = 10000\n",
    "df_investment=df.loc[df['savings'] > saving_threashold]\n",
    "\n",
    "df_investment.sort_values(by='savings',ascending=False).head(50)"
   ]
  },
  {
   "cell_type": "markdown",
   "metadata": {},
   "source": [
    "#### Plot the identified properties on the map"
   ]
  },
  {
   "cell_type": "code",
   "execution_count": null,
   "metadata": {},
   "outputs": [],
   "source": [
    "gdf = gpd.GeoDataFrame(\n",
    "    df_investment, geometry=gpd.points_from_xy(df_investment.longitude, df_investment.latitude))\n",
    "gdf.crs = {'init': 'epsg:4326'}\n",
    "gdf = gdf.to_crs(epsg=3857)\n",
    "\n",
    "figsize = (15, 15)\n",
    "fig, ax = plt.subplots(1, figsize=figsize)\n",
    "gdf.plot(column='savings', cmap='hot', legend=True, alpha=0.9, ax=ax)\n",
    "ctx.add_basemap(ax)\n",
    "ax.set_title(\"Savings - all property types\", fontsize=16)\n",
    "\n",
    "figsize = (15, 15)\n",
    "fig, ax = plt.subplots(1, figsize=figsize)\n",
    "gdf.loc[gdf['propertyType'] == 'penthouse'].plot(\n",
    "    column='savings', cmap='hot', legend=True, alpha=0.9, ax=ax)\n",
    "ctx.add_basemap(ax)\n",
    "ax.set_title(\"Savings - Penthouses\", fontsize=16)"
   ]
  },
  {
   "cell_type": "code",
   "execution_count": null,
   "metadata": {},
   "outputs": [],
   "source": [
    "fig,ax= plt.subplots(2,figsize=(15, 10))\n",
    "sns.scatterplot(x='size', y='savings', hue= 'propertyType', data=df_investment,ax=ax[0]);\n",
    "#sns.scatterplot(x='size', y='priceByArea', hue= 'savings', data=df,ax=ax[1]);\n",
    "sns.scatterplot(x='size', y='priceByArea', size= 'savings', hue='propertyType', data=df_investment,ax=ax[1]);"
   ]
  },
  {
   "cell_type": "markdown",
   "metadata": {},
   "source": [
    "#### Get the identifier of the selected property"
   ]
  },
  {
   "cell_type": "code",
   "execution_count": null,
   "metadata": {},
   "outputs": [],
   "source": [
    "# E.g.:\n",
    "df_investment.loc[(df_investment['size'] > 70) & (df_investment['size'] < 100) & (\n",
    "    df_investment['propertyType'] == 'penthouse')].sort_values(by='savings', ascending=False)"
   ]
  },
  {
   "cell_type": "code",
   "execution_count": null,
   "metadata": {},
   "outputs": [],
   "source": []
  }
 ],
 "metadata": {
  "kernelspec": {
   "display_name": "Python 3",
   "language": "python",
   "name": "python3"
  },
  "language_info": {
   "codemirror_mode": {
    "name": "ipython",
    "version": 3
   },
   "file_extension": ".py",
   "mimetype": "text/x-python",
   "name": "python",
   "nbconvert_exporter": "python",
   "pygments_lexer": "ipython3",
   "version": "3.8.2"
  },
  "notify_time": "5",
  "varInspector": {
   "cols": {
    "lenName": 16,
    "lenType": 16,
    "lenVar": 40
   },
   "kernels_config": {
    "python": {
     "delete_cmd_postfix": "",
     "delete_cmd_prefix": "del ",
     "library": "var_list.py",
     "varRefreshCmd": "print(var_dic_list())"
    },
    "r": {
     "delete_cmd_postfix": ") ",
     "delete_cmd_prefix": "rm(",
     "library": "var_list.r",
     "varRefreshCmd": "cat(var_dic_list()) "
    }
   },
   "types_to_exclude": [
    "module",
    "function",
    "builtin_function_or_method",
    "instance",
    "_Feature"
   ],
   "window_display": false
  }
 },
 "nbformat": 4,
 "nbformat_minor": 4
}
