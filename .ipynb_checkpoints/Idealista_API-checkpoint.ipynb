{
 "cells": [
  {
   "cell_type": "markdown",
   "metadata": {},
   "source": [
    "# Idealista API\n",
    "\n",
    "Script for sending an API query to Idealista and storing the received data to the CSV file 'data.csv'. If the file doesn't exist, it will be created.\n",
    "\n",
    "API credentials are stored in 'credentials.py' file in format: <br>\n",
    "*apikey = 'xxxxxxxx'* <br>\n",
    "*secret = 'xxxxxxx'* <br>\n"
   ]
  },
  {
   "cell_type": "code",
   "execution_count": 1,
   "metadata": {},
   "outputs": [],
   "source": [
    "import pandas as pd\n",
    "import os.path\n",
    "import json\n",
    "import urllib\n",
    "import requests as rq\n",
    "import datetime as dt\n",
    "import credentials #python script with stored apikey and secret (sent by idealista)\n",
    "\n",
    "pd.set_option('display.max_columns', None)\n",
    "\n",
    "\n",
    "apikey= credentials.apikey\n",
    "secret= credentials.secret \n",
    "\n",
    "def get_oauth_token(key, secret):\n",
    "    # Get OAuth token from Idealista\n",
    "    oauth_url = \"https://api.idealista.com/oauth/token\"\n",
    "    parameters = {\"grant_type\":\"client_credentials\"}\n",
    "    r = rq.post(oauth_url,\n",
    "                      auth=rq.auth.HTTPBasicAuth(key, secret),\n",
    "                      data=parameters)\n",
    "    received_token = json.loads(r.text)\n",
    "    return received_token[\"access_token\"]\n",
    "\n",
    "def search_api(token, url):    \n",
    "    headers = {'Content-Type': 'Content-Type: multipart/form-data;', 'Authorization' : 'Bearer ' + token}\n",
    "    content = rq.post(url, headers = headers)\n",
    "    result = json.loads(content.text)\n",
    "    df = pd.DataFrame.from_dict(result['elementList'])\n",
    "    return df\n"
   ]
  },
  {
   "cell_type": "code",
   "execution_count": 2,
   "metadata": {},
   "outputs": [
    {
     "name": "stdout",
     "output_type": "stream",
     "text": [
      "Broke ahead\n"
     ]
    }
   ],
   "source": [
    "country = 'es' # possible values: es, it, pt\n",
    "locale = 'es'  #possible values: es, it, pt, en, ca\n",
    "language = 'es' #\n",
    "max_items = '50'\n",
    "operation = 'sale' \n",
    "property_type = 'homes'\n",
    "order = 'priceDown' \n",
    "center = \"41.3881,2.1657\"\n",
    "distance = '7000'\n",
    "sort = 'desc'\n",
    "countryHouse = 'false'\n",
    "chalet = 'false'\n",
    "maxPrice = '410000'\n",
    "sinceDate = 'W'\n",
    "#bankOffer = 'false'\n",
    "\n",
    "# maximum number of queries to perform (maximum number of fetched properties \n",
    "# per a query is 'max_items')\n",
    "limit = 50\n",
    "\n",
    "df_tot = pd.DataFrame()\n",
    "\n",
    "for i in range(1,limit):\n",
    "    url = ('https://api.idealista.com/3.5/'+country+'/search?operation='+operation+#\"&locale=\"+locale+\n",
    "           '&maxItems='+max_items+\n",
    "           '&order='+order+\n",
    "           '&center='+center+\n",
    "           '&distance='+distance+\n",
    "           '&propertyType='+property_type+\n",
    "           '&sort='+sort+ \n",
    "           '&numPage=%s'+\n",
    "           '&countryHouse='+countryHouse+ \n",
    "           '&chalet='+chalet+ \n",
    "           '&maxPrice='+maxPrice+ \n",
    "           '&sinceDate='+sinceDate+\n",
    "           '&language='+language) %(i)  \n",
    "    \n",
    "    df = search_api(get_oauth_token(apikey, secret), url)\n",
    "    df_tot = pd.concat([df_tot,df])\n",
    "    if df.shape[0]<limit:\n",
    "        print('All properties downloaded')\n",
    "        break\n",
    "\n",
    "df_tot = df_tot.reset_index()"
   ]
  },
  {
   "cell_type": "code",
   "execution_count": 3,
   "metadata": {},
   "outputs": [],
   "source": [
    "df_tot[\"Week\"] = dt.date.today().isocalendar()[1]\n",
    "\n",
    "if os.path.isfile('./data/data.csv'):\n",
    "    # append csv\n",
    "    df_stored = pd.read_csv(('./data/data.csv'))\n",
    "    df_to_store = pd.concat([df_stored, df_tot])\n",
    "    df_to_store.to_csv(\"./data/data.csv\",index=False)\n",
    "    \n",
    "else:\n",
    "    # create csv\n",
    "    print('Creating new file with data')\n",
    "    df_tot.to_csv('./data/data.csv',index=False)\n"
   ]
  },
  {
   "cell_type": "code",
   "execution_count": null,
   "metadata": {},
   "outputs": [],
   "source": []
  }
 ],
 "metadata": {
  "kernelspec": {
   "display_name": "Python 3",
   "language": "python",
   "name": "python3"
  },
  "language_info": {
   "codemirror_mode": {
    "name": "ipython",
    "version": 3
   },
   "file_extension": ".py",
   "mimetype": "text/x-python",
   "name": "python",
   "nbconvert_exporter": "python",
   "pygments_lexer": "ipython3",
   "version": "3.8.2"
  },
  "varInspector": {
   "cols": {
    "lenName": 16,
    "lenType": 16,
    "lenVar": 40
   },
   "kernels_config": {
    "python": {
     "delete_cmd_postfix": "",
     "delete_cmd_prefix": "del ",
     "library": "var_list.py",
     "varRefreshCmd": "print(var_dic_list())"
    },
    "r": {
     "delete_cmd_postfix": ") ",
     "delete_cmd_prefix": "rm(",
     "library": "var_list.r",
     "varRefreshCmd": "cat(var_dic_list()) "
    }
   },
   "types_to_exclude": [
    "module",
    "function",
    "builtin_function_or_method",
    "instance",
    "_Feature"
   ],
   "window_display": false
  }
 },
 "nbformat": 4,
 "nbformat_minor": 4
}
